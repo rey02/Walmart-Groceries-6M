{
 "cells": [
  {
   "cell_type": "markdown",
   "id": "9c43c7ae-c83a-42e3-ab6b-cb1aa7cf7971",
   "metadata": {},
   "source": [
    "<h1 style=\"text-align:center;\"><FONT COLOR=\"purple\"> DATA CLEANING AND OUTLIER DETECTION <h1>"
   ]
  },
  {
   "cell_type": "markdown",
   "id": "ccc2f108-b224-40e6-a7f0-d95a9fbe3fb0",
   "metadata": {},
   "source": [
    "<h4><FONT COLOR=\"violet\">IMPORTING NECESSARY LIBRARIES<h4>"
   ]
  },
  {
   "cell_type": "code",
   "execution_count": 251,
   "id": "8aed8910-464f-43ad-a7f0-8b3b65079b25",
   "metadata": {},
   "outputs": [],
   "source": [
    "import pandas as pd\n",
    "import numpy as np\n",
    "import matplotlib.pyplot as plt\n",
    "import seaborn as sns"
   ]
  },
  {
   "cell_type": "code",
   "execution_count": 252,
   "id": "4c85c88a-5a5e-43d4-8c44-899d0cf3c0e1",
   "metadata": {},
   "outputs": [],
   "source": [
    "orders=pd.read_csv('order_details.csv')                                  # Converting dataset to dataframe object"
   ]
  },
  {
   "cell_type": "code",
   "execution_count": 253,
   "id": "47be67ee-e32f-40c1-ad81-a0f562c54b49",
   "metadata": {},
   "outputs": [
    {
     "data": {
      "text/html": [
       "<div>\n",
       "<style scoped>\n",
       "    .dataframe tbody tr th:only-of-type {\n",
       "        vertical-align: middle;\n",
       "    }\n",
       "\n",
       "    .dataframe tbody tr th {\n",
       "        vertical-align: top;\n",
       "    }\n",
       "\n",
       "    .dataframe thead th {\n",
       "        text-align: right;\n",
       "    }\n",
       "</style>\n",
       "<table border=\"1\" class=\"dataframe\">\n",
       "  <thead>\n",
       "    <tr style=\"text-align: right;\">\n",
       "      <th></th>\n",
       "      <th>Order ID</th>\n",
       "      <th>Customer ID</th>\n",
       "      <th>Product ID</th>\n",
       "      <th>Product Category</th>\n",
       "      <th>Order Date</th>\n",
       "      <th>Quantity</th>\n",
       "      <th>Unit Price</th>\n",
       "      <th>Order Value</th>\n",
       "    </tr>\n",
       "  </thead>\n",
       "  <tbody>\n",
       "    <tr>\n",
       "      <th>0</th>\n",
       "      <td>978e028b-41ec-4013-9500-4317784c3b3d</td>\n",
       "      <td>04e83bbd-1458-4ada-b9eb-ce8bba1677fa</td>\n",
       "      <td>558e66e0-047e-4810-8200-a5cddc8c7c57</td>\n",
       "      <td>Pineapple</td>\n",
       "      <td>22-04-2023</td>\n",
       "      <td>10</td>\n",
       "      <td>50.69</td>\n",
       "      <td>506.94</td>\n",
       "    </tr>\n",
       "    <tr>\n",
       "      <th>1</th>\n",
       "      <td>978e028b-41ec-4013-9500-4317784c3b3d</td>\n",
       "      <td>04e83bbd-1458-4ada-b9eb-ce8bba1677fa</td>\n",
       "      <td>42098466-082c-4bc6-b625-2555f9505137</td>\n",
       "      <td>Cabbage</td>\n",
       "      <td>22-04-2023</td>\n",
       "      <td>3</td>\n",
       "      <td>318.10</td>\n",
       "      <td>954.30</td>\n",
       "    </tr>\n",
       "    <tr>\n",
       "      <th>2</th>\n",
       "      <td>978e028b-41ec-4013-9500-4317784c3b3d</td>\n",
       "      <td>04e83bbd-1458-4ada-b9eb-ce8bba1677fa</td>\n",
       "      <td>386278be-20f5-48ea-8a05-f1cdd64cf5b0</td>\n",
       "      <td>Strawberry</td>\n",
       "      <td>22-04-2023</td>\n",
       "      <td>1</td>\n",
       "      <td>917.65</td>\n",
       "      <td>917.65</td>\n",
       "    </tr>\n",
       "    <tr>\n",
       "      <th>3</th>\n",
       "      <td>978e028b-41ec-4013-9500-4317784c3b3d</td>\n",
       "      <td>04e83bbd-1458-4ada-b9eb-ce8bba1677fa</td>\n",
       "      <td>d36d024f-3149-4494-af58-cc0b8df52a92</td>\n",
       "      <td>Mango</td>\n",
       "      <td>22-04-2023</td>\n",
       "      <td>9</td>\n",
       "      <td>26.73</td>\n",
       "      <td>240.55</td>\n",
       "    </tr>\n",
       "    <tr>\n",
       "      <th>4</th>\n",
       "      <td>978e028b-41ec-4013-9500-4317784c3b3d</td>\n",
       "      <td>04e83bbd-1458-4ada-b9eb-ce8bba1677fa</td>\n",
       "      <td>c4cf5b93-682a-433e-b5b5-06728d594cf3</td>\n",
       "      <td>Garlic</td>\n",
       "      <td>22-04-2023</td>\n",
       "      <td>9</td>\n",
       "      <td>96.00</td>\n",
       "      <td>863.97</td>\n",
       "    </tr>\n",
       "    <tr>\n",
       "      <th>5</th>\n",
       "      <td>978e028b-41ec-4013-9500-4317784c3b3d</td>\n",
       "      <td>04e83bbd-1458-4ada-b9eb-ce8bba1677fa</td>\n",
       "      <td>87640580-0fd9-43bc-a493-33192f4162c5</td>\n",
       "      <td>Watermelon</td>\n",
       "      <td>22-04-2023</td>\n",
       "      <td>2</td>\n",
       "      <td>6.53</td>\n",
       "      <td>13.06</td>\n",
       "    </tr>\n",
       "    <tr>\n",
       "      <th>6</th>\n",
       "      <td>c1df33ef-fb5d-4c4d-9bfd-7e39e049cac0</td>\n",
       "      <td>5a02dddd-0b90-4daa-9e77-c1507e3dc46d</td>\n",
       "      <td>d36d024f-3149-4494-af58-cc0b8df52a92</td>\n",
       "      <td>Mango</td>\n",
       "      <td>07-03-2023</td>\n",
       "      <td>8</td>\n",
       "      <td>42.78</td>\n",
       "      <td>342.25</td>\n",
       "    </tr>\n",
       "    <tr>\n",
       "      <th>7</th>\n",
       "      <td>c1df33ef-fb5d-4c4d-9bfd-7e39e049cac0</td>\n",
       "      <td>5a02dddd-0b90-4daa-9e77-c1507e3dc46d</td>\n",
       "      <td>771faf3e-ec95-4b2d-be2a-4f336bab097e</td>\n",
       "      <td>Spinach</td>\n",
       "      <td>07-03-2023</td>\n",
       "      <td>4</td>\n",
       "      <td>7.63</td>\n",
       "      <td>30.54</td>\n",
       "    </tr>\n",
       "    <tr>\n",
       "      <th>8</th>\n",
       "      <td>c1df33ef-fb5d-4c4d-9bfd-7e39e049cac0</td>\n",
       "      <td>5a02dddd-0b90-4daa-9e77-c1507e3dc46d</td>\n",
       "      <td>0deaf92e-e104-4410-87b6-3194eb20b5cb</td>\n",
       "      <td>Grapes</td>\n",
       "      <td>07-03-2023</td>\n",
       "      <td>4</td>\n",
       "      <td>151.53</td>\n",
       "      <td>606.11</td>\n",
       "    </tr>\n",
       "    <tr>\n",
       "      <th>9</th>\n",
       "      <td>c1df33ef-fb5d-4c4d-9bfd-7e39e049cac0</td>\n",
       "      <td>5a02dddd-0b90-4daa-9e77-c1507e3dc46d</td>\n",
       "      <td>c4cf5b93-682a-433e-b5b5-06728d594cf3</td>\n",
       "      <td>Garlic</td>\n",
       "      <td>07-03-2023</td>\n",
       "      <td>1</td>\n",
       "      <td>802.47</td>\n",
       "      <td>802.47</td>\n",
       "    </tr>\n",
       "  </tbody>\n",
       "</table>\n",
       "</div>"
      ],
      "text/plain": [
       "                               Order ID                           Customer ID  \\\n",
       "0  978e028b-41ec-4013-9500-4317784c3b3d  04e83bbd-1458-4ada-b9eb-ce8bba1677fa   \n",
       "1  978e028b-41ec-4013-9500-4317784c3b3d  04e83bbd-1458-4ada-b9eb-ce8bba1677fa   \n",
       "2  978e028b-41ec-4013-9500-4317784c3b3d  04e83bbd-1458-4ada-b9eb-ce8bba1677fa   \n",
       "3  978e028b-41ec-4013-9500-4317784c3b3d  04e83bbd-1458-4ada-b9eb-ce8bba1677fa   \n",
       "4  978e028b-41ec-4013-9500-4317784c3b3d  04e83bbd-1458-4ada-b9eb-ce8bba1677fa   \n",
       "5  978e028b-41ec-4013-9500-4317784c3b3d  04e83bbd-1458-4ada-b9eb-ce8bba1677fa   \n",
       "6  c1df33ef-fb5d-4c4d-9bfd-7e39e049cac0  5a02dddd-0b90-4daa-9e77-c1507e3dc46d   \n",
       "7  c1df33ef-fb5d-4c4d-9bfd-7e39e049cac0  5a02dddd-0b90-4daa-9e77-c1507e3dc46d   \n",
       "8  c1df33ef-fb5d-4c4d-9bfd-7e39e049cac0  5a02dddd-0b90-4daa-9e77-c1507e3dc46d   \n",
       "9  c1df33ef-fb5d-4c4d-9bfd-7e39e049cac0  5a02dddd-0b90-4daa-9e77-c1507e3dc46d   \n",
       "\n",
       "                             Product ID Product Category  Order Date  \\\n",
       "0  558e66e0-047e-4810-8200-a5cddc8c7c57        Pineapple  22-04-2023   \n",
       "1  42098466-082c-4bc6-b625-2555f9505137          Cabbage  22-04-2023   \n",
       "2  386278be-20f5-48ea-8a05-f1cdd64cf5b0       Strawberry  22-04-2023   \n",
       "3  d36d024f-3149-4494-af58-cc0b8df52a92            Mango  22-04-2023   \n",
       "4  c4cf5b93-682a-433e-b5b5-06728d594cf3           Garlic  22-04-2023   \n",
       "5  87640580-0fd9-43bc-a493-33192f4162c5       Watermelon  22-04-2023   \n",
       "6  d36d024f-3149-4494-af58-cc0b8df52a92            Mango  07-03-2023   \n",
       "7  771faf3e-ec95-4b2d-be2a-4f336bab097e          Spinach  07-03-2023   \n",
       "8  0deaf92e-e104-4410-87b6-3194eb20b5cb           Grapes  07-03-2023   \n",
       "9  c4cf5b93-682a-433e-b5b5-06728d594cf3           Garlic  07-03-2023   \n",
       "\n",
       "   Quantity  Unit Price  Order Value  \n",
       "0        10       50.69       506.94  \n",
       "1         3      318.10       954.30  \n",
       "2         1      917.65       917.65  \n",
       "3         9       26.73       240.55  \n",
       "4         9       96.00       863.97  \n",
       "5         2        6.53        13.06  \n",
       "6         8       42.78       342.25  \n",
       "7         4        7.63        30.54  \n",
       "8         4      151.53       606.11  \n",
       "9         1      802.47       802.47  "
      ]
     },
     "execution_count": 253,
     "metadata": {},
     "output_type": "execute_result"
    }
   ],
   "source": [
    "orders.head(10)                                            #1st 10 records"
   ]
  },
  {
   "cell_type": "code",
   "execution_count": 254,
   "id": "5cca4688-7830-489d-9523-44b65521bb79",
   "metadata": {},
   "outputs": [
    {
     "name": "stdout",
     "output_type": "stream",
     "text": [
      "<class 'pandas.core.frame.DataFrame'>\n",
      "RangeIndex: 18024 entries, 0 to 18023\n",
      "Data columns (total 8 columns):\n",
      " #   Column            Non-Null Count  Dtype  \n",
      "---  ------            --------------  -----  \n",
      " 0   Order ID          18024 non-null  object \n",
      " 1   Customer ID       18024 non-null  object \n",
      " 2   Product ID        18024 non-null  object \n",
      " 3   Product Category  18024 non-null  object \n",
      " 4   Order Date        18024 non-null  object \n",
      " 5   Quantity          18024 non-null  int64  \n",
      " 6   Unit Price        18024 non-null  float64\n",
      " 7   Order Value       18024 non-null  float64\n",
      "dtypes: float64(2), int64(1), object(5)\n",
      "memory usage: 1.1+ MB\n"
     ]
    }
   ],
   "source": [
    "orders.info()"
   ]
  },
  {
   "cell_type": "code",
   "execution_count": 255,
   "id": "ccbdd768-0c53-4625-816c-d4ad445b2375",
   "metadata": {},
   "outputs": [
    {
     "data": {
      "text/plain": [
       "(18024, 8)"
      ]
     },
     "execution_count": 255,
     "metadata": {},
     "output_type": "execute_result"
    }
   ],
   "source": [
    "orders.shape                                                   #Shape of the order in rows and columns"
   ]
  },
  {
   "cell_type": "code",
   "execution_count": 256,
   "id": "7b32aecc-e9b5-4360-9da5-93294783145a",
   "metadata": {},
   "outputs": [
    {
     "data": {
      "text/plain": [
       "Order ID            0\n",
       "Customer ID         0\n",
       "Product ID          0\n",
       "Product Category    0\n",
       "Order Date          0\n",
       "Quantity            0\n",
       "Unit Price          0\n",
       "Order Value         0\n",
       "dtype: int64"
      ]
     },
     "execution_count": 256,
     "metadata": {},
     "output_type": "execute_result"
    }
   ],
   "source": [
    "orders.isnull().sum()                                          # No missing values detected"
   ]
  },
  {
   "cell_type": "markdown",
   "id": "725f57e9-901b-428c-8808-6230c657b1fb",
   "metadata": {},
   "source": [
    "<h4><FONT COLOR=\"violet\">OUTLIERS DETECTION<h4>"
   ]
  },
  {
   "cell_type": "code",
   "execution_count": 257,
   "id": "d82e226e-2812-4a56-9b82-5e4183927b8b",
   "metadata": {},
   "outputs": [
    {
     "data": {
      "image/png": "[encoded data removed]",
      "text/plain": [
       "<Figure size 640x480 with 1 Axes>"
      ]
     },
     "metadata": {},
     "output_type": "display_data"
    }
   ],
   "source": [
    "plt.hist(orders['Order Value'], bins=20, rwidth=0.8)\n",
    "plt.show()"
   ]
  },
  {
   "cell_type": "markdown",
   "id": "872421a9-892c-4e1e-aa4c-58af7abbc4e9",
   "metadata": {},
   "source": [
    "<FONT COLOR=\"Blue\"> Data is distributed uniformly i.e no skewness"
   ]
  },
  {
   "cell_type": "code",
   "execution_count": 258,
   "id": "f14ebd28-71b8-4fc4-9534-262e40827859",
   "metadata": {},
   "outputs": [
    {
     "data": {
      "text/plain": [
       "10.01"
      ]
     },
     "execution_count": 258,
     "metadata": {},
     "output_type": "execute_result"
    }
   ],
   "source": [
    "k=orders['Order Value'].min()\n",
    "k"
   ]
  },
  {
   "cell_type": "code",
   "execution_count": 259,
   "id": "1b35b225-5095-4cfc-86ae-5b07b49fffea",
   "metadata": {},
   "outputs": [
    {
     "data": {
      "text/plain": [
       "999.99"
      ]
     },
     "execution_count": 259,
     "metadata": {},
     "output_type": "execute_result"
    }
   ],
   "source": [
    "z=orders['Order Value'].max()\n",
    "z"
   ]
  },
  {
   "cell_type": "code",
   "execution_count": 260,
   "id": "78487791-9eb9-44ca-b407-3b6c048dcfd7",
   "metadata": {},
   "outputs": [
    {
     "data": {
      "image/png": "[encoded data removed]",
      "text/plain": [
       "<Figure size 640x480 with 1 Axes>"
      ]
     },
     "metadata": {},
     "output_type": "display_data"
    }
   ],
   "source": [
    "plt.hist(orders['Quantity'], bins=10, rwidth=0.8)\n",
    "plt.show()"
   ]
  },
  {
   "cell_type": "markdown",
   "id": "4f1247a3-9a9d-4893-bba1-f0793c821e89",
   "metadata": {},
   "source": [
    "<FONT COLOR=\"Blue\"> Data is distributed uniformly i.e no skewness"
   ]
  },
  {
   "cell_type": "code",
   "execution_count": 261,
   "id": "b8699355-2cc6-459f-990f-7ab92be8adb0",
   "metadata": {},
   "outputs": [
    {
     "data": {
      "text/plain": [
       "1"
      ]
     },
     "execution_count": 261,
     "metadata": {},
     "output_type": "execute_result"
    }
   ],
   "source": [
    "k=orders['Quantity'].min()\n",
    "k"
   ]
  },
  {
   "cell_type": "code",
   "execution_count": 262,
   "id": "9d133006-3326-4d3f-ae8e-81c07f33a56c",
   "metadata": {},
   "outputs": [
    {
     "data": {
      "text/plain": [
       "10"
      ]
     },
     "execution_count": 262,
     "metadata": {},
     "output_type": "execute_result"
    }
   ],
   "source": [
    "z=orders['Quantity'].max()\n",
    "z"
   ]
  },
  {
   "cell_type": "code",
   "execution_count": 263,
   "id": "4bd2a0bb-b514-4758-aed6-bb81e1ddfd90",
   "metadata": {},
   "outputs": [
    {
     "data": {
      "image/png": "[encoded data removed]",
      "text/plain": [
       "<Figure size 640x480 with 1 Axes>"
      ]
     },
     "metadata": {},
     "output_type": "display_data"
    }
   ],
   "source": [
    "plt.hist(orders['Unit Price'], bins=20, rwidth=0.8)\n",
    "plt.show()"
   ]
  },
  {
   "cell_type": "markdown",
   "id": "e48238b0-0c7f-41bb-b9d4-71ff07a99c43",
   "metadata": {},
   "source": [
    "<FONT COLOR=\"Blue\"> Data is positively / right skewed and the histogram is Leptokurtic in nature. There exists outliers at the tail of the data"
   ]
  },
  {
   "cell_type": "code",
   "execution_count": 264,
   "id": "4b882c4b-93f3-4048-b266-86132a88e035",
   "metadata": {},
   "outputs": [
    {
     "data": {
      "text/plain": [
       "1.04"
      ]
     },
     "execution_count": 264,
     "metadata": {},
     "output_type": "execute_result"
    }
   ],
   "source": [
    "k=orders['Unit Price'].min()\n",
    "k"
   ]
  },
  {
   "cell_type": "code",
   "execution_count": 265,
   "id": "b0800eb6-391e-4b5f-b216-0571ed091818",
   "metadata": {},
   "outputs": [
    {
     "data": {
      "text/plain": [
       "999.99"
      ]
     },
     "execution_count": 265,
     "metadata": {},
     "output_type": "execute_result"
    }
   ],
   "source": [
    "z=orders['Unit Price'].max()\n",
    "z"
   ]
  },
  {
   "cell_type": "code",
   "execution_count": 266,
   "id": "5b986f7c-a281-4423-be34-18b54b3a21e9",
   "metadata": {},
   "outputs": [
    {
     "data": {
      "text/plain": [
       "count    18024.000000\n",
       "mean       148.302343\n",
       "std        174.310884\n",
       "min          1.040000\n",
       "25%         47.547500\n",
       "50%         92.305000\n",
       "75%        166.287500\n",
       "max        999.990000\n",
       "Name: Unit Price, dtype: float64"
      ]
     },
     "execution_count": 266,
     "metadata": {},
     "output_type": "execute_result"
    }
   ],
   "source": [
    "l=orders['Unit Price']\n",
    "l.describe()                           # Describing the data"
   ]
  },
  {
   "cell_type": "code",
   "execution_count": 267,
   "id": "c55d3470-6850-425d-b730-cf3ada00c6ba",
   "metadata": {},
   "outputs": [
    {
     "data": {
      "text/plain": [
       "148.30234298712827"
      ]
     },
     "execution_count": 267,
     "metadata": {},
     "output_type": "execute_result"
    }
   ],
   "source": [
    "l.mean()"
   ]
  },
  {
   "cell_type": "code",
   "execution_count": 268,
   "id": "0766242a-f9c7-4d72-b9e0-dfc091b5b732",
   "metadata": {},
   "outputs": [
    {
     "data": {
      "text/plain": [
       "174.310883725107"
      ]
     },
     "execution_count": 268,
     "metadata": {},
     "output_type": "execute_result"
    }
   ],
   "source": [
    "l.std()"
   ]
  },
  {
   "cell_type": "markdown",
   "id": "0813de9b-8d3e-42e0-a959-00c1ad9f83e1",
   "metadata": {},
   "source": [
    "<h4><FONT COLOR=\"violet\"> OUTLIER REMOVAL</h4>"
   ]
  },
  {
   "cell_type": "code",
   "execution_count": 269,
   "id": "39b68f29-4524-4930-b5c7-b3bfd2049e3a",
   "metadata": {},
   "outputs": [],
   "source": [
    "Q1=l.quantile(0.25)\n",
    "Q3=l.quantile(0.75)"
   ]
  },
  {
   "cell_type": "code",
   "execution_count": 270,
   "id": "f96e032f-007f-44b0-a403-670ce6184859",
   "metadata": {},
   "outputs": [
    {
     "data": {
      "text/plain": [
       "(47.5475, 166.2875)"
      ]
     },
     "execution_count": 270,
     "metadata": {},
     "output_type": "execute_result"
    }
   ],
   "source": [
    "Q1,Q3"
   ]
  },
  {
   "cell_type": "code",
   "execution_count": 271,
   "id": "811a2d83-a1b0-4aaf-b74a-2a1349214247",
   "metadata": {},
   "outputs": [],
   "source": [
    "IQR=Q3-Q1"
   ]
  },
  {
   "cell_type": "code",
   "execution_count": 272,
   "id": "ef42e12b-862d-4d84-a2fa-17e5a78dccf0",
   "metadata": {},
   "outputs": [
    {
     "data": {
      "text/plain": [
       "118.74"
      ]
     },
     "execution_count": 272,
     "metadata": {},
     "output_type": "execute_result"
    }
   ],
   "source": [
    "IQR"
   ]
  },
  {
   "cell_type": "code",
   "execution_count": 273,
   "id": "0453c2f2-4ccc-415c-8762-39d00f791290",
   "metadata": {},
   "outputs": [],
   "source": [
    "lower_limit=Q1-1.5*IQR\n",
    "upper_limit=Q1+1.5*IQR"
   ]
  },
  {
   "cell_type": "code",
   "execution_count": 274,
   "id": "60ab58ec-b201-40f0-9271-b281193ccdae",
   "metadata": {},
   "outputs": [
    {
     "data": {
      "text/plain": [
       "(-130.5625, 225.65749999999997)"
      ]
     },
     "execution_count": 274,
     "metadata": {},
     "output_type": "execute_result"
    }
   ],
   "source": [
    "lower_limit,upper_limit"
   ]
  },
  {
   "cell_type": "code",
   "execution_count": 275,
   "id": "9b6a8b48-8cc1-47f7-8931-ae6a4f905a57",
   "metadata": {},
   "outputs": [],
   "source": [
    "orders_no_outliers=orders[(l>lower_limit) & (l<upper_limit)]"
   ]
  },
  {
   "cell_type": "code",
   "execution_count": 229,
   "id": "4c7e1f10-1d7b-4407-a4de-3ecc15ba0886",
   "metadata": {},
   "outputs": [
    {
     "data": {
      "image/png": "[encoded data removed]",
      "text/plain": [
       "<Figure size 640x480 with 1 Axes>"
      ]
     },
     "metadata": {},
     "output_type": "display_data"
    }
   ],
   "source": [
    "plt.hist(orders_no_outliers['Unit Price'], bins=20, rwidth=0.8)\n",
    "plt.show()                                                        # Very Low outliers, skewness changed a lot"
   ]
  },
  {
   "cell_type": "markdown",
   "id": "9f56e18d-3485-4e1f-b09c-4ecca60edfe4",
   "metadata": {},
   "source": [
    "<FONT COLOR=\"Blue\"> Although the data is still positively skewed , the number of ouliers has been reduced to minimal"
   ]
  },
  {
   "cell_type": "code",
   "execution_count": 278,
   "id": "34c75d99-9314-465d-b25b-6b015f8e5390",
   "metadata": {},
   "outputs": [
    {
     "name": "stdout",
     "output_type": "stream",
     "text": [
      "<class 'pandas.core.frame.DataFrame'>\n",
      "Index: 14850 entries, 0 to 18023\n",
      "Data columns (total 8 columns):\n",
      " #   Column            Non-Null Count  Dtype  \n",
      "---  ------            --------------  -----  \n",
      " 0   Order ID          14850 non-null  object \n",
      " 1   Customer ID       14850 non-null  object \n",
      " 2   Product ID        14850 non-null  object \n",
      " 3   Product Category  14850 non-null  object \n",
      " 4   Order Date        14850 non-null  object \n",
      " 5   Quantity          14850 non-null  int64  \n",
      " 6   Unit Price        14850 non-null  float64\n",
      " 7   Order Value       14850 non-null  float64\n",
      "dtypes: float64(2), int64(1), object(5)\n",
      "memory usage: 1.0+ MB\n"
     ]
    }
   ],
   "source": [
    "orders_no_outliers.info()"
   ]
  },
  {
   "cell_type": "code",
   "execution_count": 279,
   "id": "c75608df-ea40-41a3-b867-4e5dba32c129",
   "metadata": {},
   "outputs": [
    {
     "data": {
      "text/html": [
       "<div>\n",
       "<style scoped>\n",
       "    .dataframe tbody tr th:only-of-type {\n",
       "        vertical-align: middle;\n",
       "    }\n",
       "\n",
       "    .dataframe tbody tr th {\n",
       "        vertical-align: top;\n",
       "    }\n",
       "\n",
       "    .dataframe thead th {\n",
       "        text-align: right;\n",
       "    }\n",
       "</style>\n",
       "<table border=\"1\" class=\"dataframe\">\n",
       "  <thead>\n",
       "    <tr style=\"text-align: right;\">\n",
       "      <th></th>\n",
       "      <th>Order ID</th>\n",
       "      <th>Customer ID</th>\n",
       "      <th>Product ID</th>\n",
       "      <th>Product Category</th>\n",
       "      <th>Order Date</th>\n",
       "      <th>Quantity</th>\n",
       "      <th>Unit Price</th>\n",
       "      <th>Order Value</th>\n",
       "    </tr>\n",
       "  </thead>\n",
       "  <tbody>\n",
       "    <tr>\n",
       "      <th>18012</th>\n",
       "      <td>8fee7e9b-1d26-46a4-8d32-545798ec6867</td>\n",
       "      <td>d8cd3e50-d5ed-419f-ba36-7cefa9d2d9ea</td>\n",
       "      <td>87640580-0fd9-43bc-a493-33192f4162c5</td>\n",
       "      <td>Watermelon</td>\n",
       "      <td>27-07-2023</td>\n",
       "      <td>10</td>\n",
       "      <td>34.70</td>\n",
       "      <td>346.99</td>\n",
       "    </tr>\n",
       "    <tr>\n",
       "      <th>18013</th>\n",
       "      <td>cad174b4-16ea-4595-95e5-90b00c061cf5</td>\n",
       "      <td>98803c43-26f7-457b-8e0a-135db3e03671</td>\n",
       "      <td>d36d024f-3149-4494-af58-cc0b8df52a92</td>\n",
       "      <td>Mango</td>\n",
       "      <td>28-04-2023</td>\n",
       "      <td>8</td>\n",
       "      <td>115.81</td>\n",
       "      <td>926.52</td>\n",
       "    </tr>\n",
       "    <tr>\n",
       "      <th>18014</th>\n",
       "      <td>cad174b4-16ea-4595-95e5-90b00c061cf5</td>\n",
       "      <td>98803c43-26f7-457b-8e0a-135db3e03671</td>\n",
       "      <td>558e66e0-047e-4810-8200-a5cddc8c7c57</td>\n",
       "      <td>Pineapple</td>\n",
       "      <td>28-04-2023</td>\n",
       "      <td>3</td>\n",
       "      <td>15.31</td>\n",
       "      <td>45.92</td>\n",
       "    </tr>\n",
       "    <tr>\n",
       "      <th>18015</th>\n",
       "      <td>cad174b4-16ea-4595-95e5-90b00c061cf5</td>\n",
       "      <td>98803c43-26f7-457b-8e0a-135db3e03671</td>\n",
       "      <td>fb79e97e-6dc6-48fb-a4d7-58b87f37692b</td>\n",
       "      <td>Apple</td>\n",
       "      <td>28-04-2023</td>\n",
       "      <td>8</td>\n",
       "      <td>83.17</td>\n",
       "      <td>665.32</td>\n",
       "    </tr>\n",
       "    <tr>\n",
       "      <th>18016</th>\n",
       "      <td>cad174b4-16ea-4595-95e5-90b00c061cf5</td>\n",
       "      <td>98803c43-26f7-457b-8e0a-135db3e03671</td>\n",
       "      <td>03b62fc9-9900-451b-bfb6-01b67c3ec167</td>\n",
       "      <td>Lentils</td>\n",
       "      <td>28-04-2023</td>\n",
       "      <td>3</td>\n",
       "      <td>168.76</td>\n",
       "      <td>506.27</td>\n",
       "    </tr>\n",
       "    <tr>\n",
       "      <th>18017</th>\n",
       "      <td>d13670a6-4d87-43dc-b7af-71ebf3299442</td>\n",
       "      <td>145204d5-79ed-4fe8-bee1-af5dad670898</td>\n",
       "      <td>558e66e0-047e-4810-8200-a5cddc8c7c57</td>\n",
       "      <td>Pineapple</td>\n",
       "      <td>02-03-2023</td>\n",
       "      <td>4</td>\n",
       "      <td>114.66</td>\n",
       "      <td>458.64</td>\n",
       "    </tr>\n",
       "    <tr>\n",
       "      <th>18019</th>\n",
       "      <td>d13670a6-4d87-43dc-b7af-71ebf3299442</td>\n",
       "      <td>145204d5-79ed-4fe8-bee1-af5dad670898</td>\n",
       "      <td>f002424c-21d3-40d4-b223-9713d48f5e1e</td>\n",
       "      <td>Beans</td>\n",
       "      <td>02-03-2023</td>\n",
       "      <td>4</td>\n",
       "      <td>129.03</td>\n",
       "      <td>516.13</td>\n",
       "    </tr>\n",
       "    <tr>\n",
       "      <th>18020</th>\n",
       "      <td>d13670a6-4d87-43dc-b7af-71ebf3299442</td>\n",
       "      <td>145204d5-79ed-4fe8-bee1-af5dad670898</td>\n",
       "      <td>771faf3e-ec95-4b2d-be2a-4f336bab097e</td>\n",
       "      <td>Spinach</td>\n",
       "      <td>02-03-2023</td>\n",
       "      <td>4</td>\n",
       "      <td>215.63</td>\n",
       "      <td>862.54</td>\n",
       "    </tr>\n",
       "    <tr>\n",
       "      <th>18022</th>\n",
       "      <td>576e11d5-e2ee-441b-8ccc-5cc177a16d52</td>\n",
       "      <td>286215d5-be8f-4b05-bab8-b2d3bc8a0c34</td>\n",
       "      <td>f002424c-21d3-40d4-b223-9713d48f5e1e</td>\n",
       "      <td>Beans</td>\n",
       "      <td>20-05-2023</td>\n",
       "      <td>9</td>\n",
       "      <td>25.28</td>\n",
       "      <td>227.50</td>\n",
       "    </tr>\n",
       "    <tr>\n",
       "      <th>18023</th>\n",
       "      <td>576e11d5-e2ee-441b-8ccc-5cc177a16d52</td>\n",
       "      <td>286215d5-be8f-4b05-bab8-b2d3bc8a0c34</td>\n",
       "      <td>7676498c-893b-48dc-8b77-75c0bcf8787a</td>\n",
       "      <td>Carrot</td>\n",
       "      <td>20-05-2023</td>\n",
       "      <td>10</td>\n",
       "      <td>74.91</td>\n",
       "      <td>749.08</td>\n",
       "    </tr>\n",
       "  </tbody>\n",
       "</table>\n",
       "</div>"
      ],
      "text/plain": [
       "                                   Order ID  \\\n",
       "18012  8fee7e9b-1d26-46a4-8d32-545798ec6867   \n",
       "18013  cad174b4-16ea-4595-95e5-90b00c061cf5   \n",
       "18014  cad174b4-16ea-4595-95e5-90b00c061cf5   \n",
       "18015  cad174b4-16ea-4595-95e5-90b00c061cf5   \n",
       "18016  cad174b4-16ea-4595-95e5-90b00c061cf5   \n",
       "18017  d13670a6-4d87-43dc-b7af-71ebf3299442   \n",
       "18019  d13670a6-4d87-43dc-b7af-71ebf3299442   \n",
       "18020  d13670a6-4d87-43dc-b7af-71ebf3299442   \n",
       "18022  576e11d5-e2ee-441b-8ccc-5cc177a16d52   \n",
       "18023  576e11d5-e2ee-441b-8ccc-5cc177a16d52   \n",
       "\n",
       "                                Customer ID  \\\n",
       "18012  d8cd3e50-d5ed-419f-ba36-7cefa9d2d9ea   \n",
       "18013  98803c43-26f7-457b-8e0a-135db3e03671   \n",
       "18014  98803c43-26f7-457b-8e0a-135db3e03671   \n",
       "18015  98803c43-26f7-457b-8e0a-135db3e03671   \n",
       "18016  98803c43-26f7-457b-8e0a-135db3e03671   \n",
       "18017  145204d5-79ed-4fe8-bee1-af5dad670898   \n",
       "18019  145204d5-79ed-4fe8-bee1-af5dad670898   \n",
       "18020  145204d5-79ed-4fe8-bee1-af5dad670898   \n",
       "18022  286215d5-be8f-4b05-bab8-b2d3bc8a0c34   \n",
       "18023  286215d5-be8f-4b05-bab8-b2d3bc8a0c34   \n",
       "\n",
       "                                 Product ID Product Category  Order Date  \\\n",
       "18012  87640580-0fd9-43bc-a493-33192f4162c5       Watermelon  27-07-2023   \n",
       "18013  d36d024f-3149-4494-af58-cc0b8df52a92            Mango  28-04-2023   \n",
       "18014  558e66e0-047e-4810-8200-a5cddc8c7c57        Pineapple  28-04-2023   \n",
       "18015  fb79e97e-6dc6-48fb-a4d7-58b87f37692b            Apple  28-04-2023   \n",
       "18016  03b62fc9-9900-451b-bfb6-01b67c3ec167          Lentils  28-04-2023   \n",
       "18017  558e66e0-047e-4810-8200-a5cddc8c7c57        Pineapple  02-03-2023   \n",
       "18019  f002424c-21d3-40d4-b223-9713d48f5e1e            Beans  02-03-2023   \n",
       "18020  771faf3e-ec95-4b2d-be2a-4f336bab097e          Spinach  02-03-2023   \n",
       "18022  f002424c-21d3-40d4-b223-9713d48f5e1e            Beans  20-05-2023   \n",
       "18023  7676498c-893b-48dc-8b77-75c0bcf8787a           Carrot  20-05-2023   \n",
       "\n",
       "       Quantity  Unit Price  Order Value  \n",
       "18012        10       34.70       346.99  \n",
       "18013         8      115.81       926.52  \n",
       "18014         3       15.31        45.92  \n",
       "18015         8       83.17       665.32  \n",
       "18016         3      168.76       506.27  \n",
       "18017         4      114.66       458.64  \n",
       "18019         4      129.03       516.13  \n",
       "18020         4      215.63       862.54  \n",
       "18022         9       25.28       227.50  \n",
       "18023        10       74.91       749.08  "
      ]
     },
     "execution_count": 279,
     "metadata": {},
     "output_type": "execute_result"
    }
   ],
   "source": [
    "orders_no_outliers.tail(10)"
   ]
  },
  {
   "cell_type": "code",
   "execution_count": 280,
   "id": "3c046de6-f74c-4927-903d-179648de3313",
   "metadata": {},
   "outputs": [
    {
     "data": {
      "text/plain": [
       "(14850, 8)"
      ]
     },
     "execution_count": 280,
     "metadata": {},
     "output_type": "execute_result"
    }
   ],
   "source": [
    "orders_no_outliers.shape"
   ]
  },
  {
   "cell_type": "markdown",
   "id": "f253004c-71e3-4a31-b6e3-fd4d74fe86ff",
   "metadata": {},
   "source": [
    "<h4><FONT COLOR=\"violet\"> SAVING THE DATA IN CSV FORMAT </h4>"
   ]
  },
  {
   "cell_type": "code",
   "execution_count": 233,
   "id": "49b34e95-7c60-4df2-8904-f42b0027d70f",
   "metadata": {},
   "outputs": [],
   "source": [
    "orders_no_outliers.to_csv(r'C:\\Users\\reitr\\OneDrive\\Documents\\My Tableau Repository\\Datasources\\Wallmart\\orders_low_outliers.csv')"
   ]
  }
 ],
 "metadata": {
  "kernelspec": {
   "display_name": "Python 3 (ipykernel)",
   "language": "python",
   "name": "python3"
  },
  "language_info": {
   "codemirror_mode": {
    "name": "ipython",
    "version": 3
   },
   "file_extension": ".py",
   "mimetype": "text/x-python",
   "name": "python",
   "nbconvert_exporter": "python",
   "pygments_lexer": "ipython3",
   "version": "3.12.2"
  }
 },
 "nbformat": 4,
 "nbformat_minor": 5
}
